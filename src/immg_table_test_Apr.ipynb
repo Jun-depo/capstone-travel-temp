{
 "cells": [
  {
   "cell_type": "code",
   "execution_count": 1,
   "metadata": {},
   "outputs": [],
   "source": [
    "import findspark\n",
    "findspark.init('/home/jun3/Downloads/spark-2.4.3-bin-hadoop2.7/')\n",
    "import pyspark\n",
    "from pyspark import SparkConf\n",
    "from pyspark import SparkContext"
   ]
  },
  {
   "cell_type": "code",
   "execution_count": 2,
   "metadata": {},
   "outputs": [],
   "source": [
    "import configparser\n",
    "from datetime import datetime, timedelta\n",
    "import os\n",
    "import re\n",
    "from pyspark.sql.types import BooleanType\n",
    "from pyspark.sql import SparkSession\n",
    "from pyspark.sql.functions import udf, col\n",
    "from pyspark.sql.functions import year, month, dayofmonth, hour, weekofyear, date_format\n",
    "from pyspark.sql.functions import monotonically_increasing_id"
   ]
  },
  {
   "cell_type": "code",
   "execution_count": 3,
   "metadata": {},
   "outputs": [],
   "source": [
    "from pyspark.sql.functions import sum as Fsum\n",
    "from helper import counting_null_number_inColumns, change_data_type, remove_last2_from_colname, change_allowed_stay_date\n",
    "#import datetime as dt"
   ]
  },
  {
   "cell_type": "code",
   "execution_count": 4,
   "metadata": {},
   "outputs": [],
   "source": [
    "import pandas as pd\n",
    "import numpy as np"
   ]
  },
  {
   "cell_type": "code",
   "execution_count": 5,
   "metadata": {},
   "outputs": [],
   "source": [
    "conf = SparkConf().set('spark.driver.memory', '6G')\\\n",
    "                .set('spark.executor.memory', \"4G\")\n",
    "spark = SparkSession.builder.appName(\"capstone_proj\")\\\n",
    "    .config(\"spark.jars.packages\", \"org.apache.hadoop:hadoop-aws:2.7.0\", conf=conf).getOrCreate()"
   ]
  },
  {
   "cell_type": "code",
   "execution_count": 6,
   "metadata": {},
   "outputs": [],
   "source": [
    "path = os.path.abspath(\"data/i94_apr16_sub.parquet/\")"
   ]
  },
  {
   "cell_type": "code",
   "execution_count": 7,
   "metadata": {},
   "outputs": [],
   "source": [
    "df_imm=spark.read.parquet(path)  ### Apr16 data"
   ]
  },
  {
   "cell_type": "code",
   "execution_count": 8,
   "metadata": {},
   "outputs": [],
   "source": [
    "df_imm= df_imm.drop('validres',\n",
    " 'delete_days',\n",
    " 'delete_mexl',\n",
    " 'delete_dup',\n",
    " 'delete_visa',\n",
    " 'delete_recdup')"
   ]
  },
  {
   "cell_type": "code",
   "execution_count": 9,
   "metadata": {},
   "outputs": [
    {
     "data": {
      "text/plain": [
       "3096313"
      ]
     },
     "execution_count": 9,
     "metadata": {},
     "output_type": "execute_result"
    }
   ],
   "source": [
    "df_imm.count()"
   ]
  },
  {
   "cell_type": "code",
   "execution_count": 10,
   "metadata": {},
   "outputs": [
    {
     "data": {
      "text/plain": [
       "[Row(cicid=5748517.0, i94yr=2016.0, i94mon=4.0, i94cit=245.0, i94res=438.0, i94port='LOS', arrdate=20574.0, i94mode=1.0, i94addr='CA', depdate=20582.0, i94bir=40.0, i94visa=1.0, count=1.0, dtadfile='20160430', visapost='SYD', occup=None, entdepa='G', entdepd='O', entdepu=None, matflag='M', biryear=1976.0, dtaddto='10292016', gender='F', insnum=None, airline='QF', admnum=94953870030.0, fltno='00011', visatype='B1')]"
      ]
     },
     "execution_count": 10,
     "metadata": {},
     "output_type": "execute_result"
    }
   ],
   "source": [
    "df_imm.take(1)"
   ]
  },
  {
   "cell_type": "code",
   "execution_count": 11,
   "metadata": {},
   "outputs": [],
   "source": [
    "# convert SAS date to datetime date\n",
    "convert_to_dt_date = udf(lambda x: (datetime(1960, 1, 1).date() + timedelta(x)).isoformat() if x else None)"
   ]
  },
  {
   "cell_type": "code",
   "execution_count": 12,
   "metadata": {},
   "outputs": [],
   "source": [
    "df_imm = df_imm.select(\"*\").withColumn(\"arrival_date\", convert_to_dt_date(df_imm.arrdate))"
   ]
  },
  {
   "cell_type": "code",
   "execution_count": 13,
   "metadata": {},
   "outputs": [],
   "source": [
    "df_imm = df_imm.select(\"*\").withColumn(\"departure_date\", convert_to_dt_date(df_imm.depdate))"
   ]
  },
  {
   "cell_type": "code",
   "execution_count": 14,
   "metadata": {},
   "outputs": [],
   "source": [
    "df_imm = df_imm.drop(\"arrdate\", \"depdate\")"
   ]
  },
  {
   "cell_type": "code",
   "execution_count": 15,
   "metadata": {},
   "outputs": [],
   "source": [
    "df_ds=df_imm.select(\"visatype\", \"dtaddto\").where(df_imm.dtaddto==\"D/S\")"
   ]
  },
  {
   "cell_type": "code",
   "execution_count": 16,
   "metadata": {},
   "outputs": [],
   "source": [
    "df_ds_gb = df_ds.groupBy(\"visatype\").count()"
   ]
  },
  {
   "cell_type": "code",
   "execution_count": 17,
   "metadata": {},
   "outputs": [
    {
     "name": "stdout",
     "output_type": "stream",
     "text": [
      "+--------+-----+\n",
      "|visatype|count|\n",
      "+--------+-----+\n",
      "|      F2| 2982|\n",
      "|      B2|   17|\n",
      "|      F1|38944|\n",
      "|     CPL|    1|\n",
      "|      I1|  189|\n",
      "|      M1|    3|\n",
      "|      B1|    3|\n",
      "|      E1|   43|\n",
      "|       I| 3158|\n",
      "|      E2|    3|\n",
      "+--------+-----+\n",
      "\n"
     ]
    }
   ],
   "source": [
    "df_ds_gb.show() "
   ]
  },
  {
   "cell_type": "code",
   "execution_count": 18,
   "metadata": {},
   "outputs": [],
   "source": [
    "df_f1=df_imm.select(\"visatype\", \"dtaddto\").where(df_imm.visatype==\"F1\")  # \"dtaddto\" column contains allowed to stay till that dates"
   ]
  },
  {
   "cell_type": "code",
   "execution_count": 19,
   "metadata": {},
   "outputs": [],
   "source": [
    "df_f1_gb = df_f1.select(\"*\").groupBy(\"dtaddto\").count()"
   ]
  },
  {
   "cell_type": "code",
   "execution_count": 20,
   "metadata": {},
   "outputs": [
    {
     "name": "stdout",
     "output_type": "stream",
     "text": [
      "+--------+-----+\n",
      "| dtaddto|count|\n",
      "+--------+-----+\n",
      "|     D/S|38944|\n",
      "|    null|   16|\n",
      "|05012016|   10|\n",
      "|05022016|    6|\n",
      "|04302016|    4|\n",
      "+--------+-----+\n",
      "only showing top 5 rows\n",
      "\n"
     ]
    }
   ],
   "source": [
    "df_f1_gb.sort(\"count\", ascending = False).show(5)"
   ]
  },
  {
   "cell_type": "code",
   "execution_count": 21,
   "metadata": {},
   "outputs": [
    {
     "data": {
      "text/plain": [
       "0.9981546032396965"
      ]
     },
     "execution_count": 21,
     "metadata": {},
     "output_type": "execute_result"
    }
   ],
   "source": [
    "38944/df_f1.count() # 99% F1 students are D/S (D/S: during status--my guess) for allowed to stay date"
   ]
  },
  {
   "cell_type": "code",
   "execution_count": 22,
   "metadata": {},
   "outputs": [],
   "source": [
    "df_imm = df_imm.where(\"dtaddto is not null\") # select data with not null value."
   ]
  },
  {
   "cell_type": "code",
   "execution_count": 23,
   "metadata": {},
   "outputs": [
    {
     "data": {
      "text/plain": [
       "3095836"
      ]
     },
     "execution_count": 23,
     "metadata": {},
     "output_type": "execute_result"
    }
   ],
   "source": [
    "df_imm.count()"
   ]
  },
  {
   "cell_type": "code",
   "execution_count": 24,
   "metadata": {},
   "outputs": [],
   "source": [
    "df_imm = df_imm.where(col(\"dtaddto\")!=\"\")"
   ]
  },
  {
   "cell_type": "code",
   "execution_count": 25,
   "metadata": {},
   "outputs": [
    {
     "data": {
      "text/plain": [
       "3095836"
      ]
     },
     "execution_count": 25,
     "metadata": {},
     "output_type": "execute_result"
    }
   ],
   "source": [
    "df_imm.count()"
   ]
  },
  {
   "cell_type": "code",
   "execution_count": 26,
   "metadata": {},
   "outputs": [],
   "source": [
    "# regular expression function to filter out non-datetime looking data, not perfect function.  But sufficient to get rid data that caused error problem \n",
    "def regex_filter(x):\n",
    "    regexs = ['[0-1][\\d]+[0-4]+[\\d]+[\\d]+[\\d]+[\\d]+', \"D/S\"]\n",
    "    \n",
    "    if x:\n",
    "        for r in regexs:\n",
    "            if re.match(r, x, re.IGNORECASE):\n",
    "                return True    \n",
    "    return False "
   ]
  },
  {
   "cell_type": "code",
   "execution_count": 27,
   "metadata": {},
   "outputs": [],
   "source": [
    "# convert regex_filter function to udf function\n",
    "regex_filter_udf = udf(regex_filter, BooleanType())"
   ]
  },
  {
   "cell_type": "code",
   "execution_count": 28,
   "metadata": {},
   "outputs": [
    {
     "data": {
      "text/plain": [
       "True"
      ]
     },
     "execution_count": 28,
     "metadata": {},
     "output_type": "execute_result"
    }
   ],
   "source": [
    "regex_filter(\"11122016\") # testing"
   ]
  },
  {
   "cell_type": "code",
   "execution_count": 29,
   "metadata": {},
   "outputs": [],
   "source": [
    "df_imm = df_imm.withColumn(\"regEX_dtaddto\", regex_filter_udf(\"dtaddto\"))  "
   ]
  },
  {
   "cell_type": "code",
   "execution_count": 30,
   "metadata": {},
   "outputs": [
    {
     "data": {
      "text/plain": [
       "[Row(cicid=5748517.0, i94yr=2016.0, i94mon=4.0, i94cit=245.0, i94res=438.0, i94port='LOS', i94mode=1.0, i94addr='CA', i94bir=40.0, i94visa=1.0, count=1.0, dtadfile='20160430', visapost='SYD', occup=None, entdepa='G', entdepd='O', entdepu=None, matflag='M', biryear=1976.0, dtaddto='10292016', gender='F', insnum=None, airline='QF', admnum=94953870030.0, fltno='00011', visatype='B1', arrival_date='2016-04-30', departure_date='2016-05-08', regEX_dtaddto=True)]"
      ]
     },
     "execution_count": 30,
     "metadata": {},
     "output_type": "execute_result"
    }
   ],
   "source": [
    "df_imm.take(1)"
   ]
  },
  {
   "cell_type": "code",
   "execution_count": 31,
   "metadata": {},
   "outputs": [],
   "source": [
    "df_imm2 = df_imm.where(col(\"regEX_dtaddto\")==True)"
   ]
  },
  {
   "cell_type": "code",
   "execution_count": 32,
   "metadata": {},
   "outputs": [
    {
     "data": {
      "text/plain": [
       "3095832"
      ]
     },
     "execution_count": 32,
     "metadata": {},
     "output_type": "execute_result"
    }
   ],
   "source": [
    "# get rid of 4 data points\n",
    "df_imm2.count()"
   ]
  },
  {
   "cell_type": "code",
   "execution_count": 33,
   "metadata": {},
   "outputs": [],
   "source": [
    "df_imm_f = df_imm.where(col(\"regEX_dtaddto\")==False) # check False data"
   ]
  },
  {
   "cell_type": "code",
   "execution_count": 34,
   "metadata": {},
   "outputs": [
    {
     "data": {
      "text/plain": [
       "[Row(dtaddto='06 02002'),\n",
       " Row(dtaddto='10 02003'),\n",
       " Row(dtaddto='183'),\n",
       " Row(dtaddto='/   183D')]"
      ]
     },
     "execution_count": 34,
     "metadata": {},
     "output_type": "execute_result"
    }
   ],
   "source": [
    "df_imm_f.select(\"dtaddto\").take(4) # These data are removed in df_imm2 3 steps ago"
   ]
  },
  {
   "cell_type": "code",
   "execution_count": 35,
   "metadata": {},
   "outputs": [
    {
     "name": "stdout",
     "output_type": "stream",
     "text": [
      "cicid :  0\n",
      "i94yr :  0\n",
      "i94mon :  0\n",
      "i94cit :  0\n",
      "i94res :  0\n",
      "i94port :  0\n",
      "i94mode :  1\n",
      "i94addr :  152298\n",
      "i94bir :  801\n",
      "i94visa :  0\n",
      "count :  0\n",
      "dtadfile :  1\n",
      "visapost :  1880804\n",
      "occup :  3087706\n",
      "entdepa :  0\n",
      "entdepd :  138384\n",
      "entdepu :  3095440\n",
      "matflag :  138384\n",
      "biryear :  801\n",
      "dtaddto :  0\n",
      "gender :  414031\n",
      "insnum :  2982274\n",
      "airline :  83375\n",
      "admnum :  0\n",
      "fltno :  19299\n",
      "visatype :  0\n",
      "arrival_date :  0\n",
      "departure_date :  142408\n",
      "regEX_dtaddto :  0\n"
     ]
    }
   ],
   "source": [
    "# check number of null value in each column using counting_null_number_inColumns from helper.py \n",
    "counting_null_number_inColumns(df_imm2)"
   ]
  },
  {
   "cell_type": "code",
   "execution_count": 36,
   "metadata": {},
   "outputs": [],
   "source": [
    "# Drop columns containing a lot of null values and regEX_dtaddto.  \n",
    "df_imm2 = df_imm2.drop(\"visapost\", \"occup\", \"entdepd\", \"entdepu\", \"insnum\", \"matflag\", \"regEX_dtaddto\", \"gender\")"
   ]
  },
  {
   "cell_type": "code",
   "execution_count": 37,
   "metadata": {},
   "outputs": [],
   "source": [
    "df_imm2 = df_imm2.select(\"*\").where((\"dtadfile is not null\"))  # \"dtadfile\" only has 1 null value, remove it"
   ]
  },
  {
   "cell_type": "code",
   "execution_count": 38,
   "metadata": {},
   "outputs": [
    {
     "data": {
      "text/plain": [
       "[Row(cicid=5748517.0, i94yr=2016.0, i94mon=4.0, i94cit=245.0, i94res=438.0, i94port='LOS', i94mode=1.0, i94addr='CA', i94bir=40.0, i94visa=1.0, count=1.0, dtadfile='20160430', entdepa='G', biryear=1976.0, dtaddto='10292016', airline='QF', admnum=94953870030.0, fltno='00011', visatype='B1', arrival_date='2016-04-30', departure_date='2016-05-08'),\n",
       " Row(cicid=5748518.0, i94yr=2016.0, i94mon=4.0, i94cit=245.0, i94res=438.0, i94port='LOS', i94mode=1.0, i94addr='NV', i94bir=32.0, i94visa=1.0, count=1.0, dtadfile='20160430', entdepa='G', biryear=1984.0, dtaddto='10292016', airline='VA', admnum=94955622830.0, fltno='00007', visatype='B1', arrival_date='2016-04-30', departure_date='2016-05-17')]"
      ]
     },
     "execution_count": 38,
     "metadata": {},
     "output_type": "execute_result"
    }
   ],
   "source": [
    "df_imm2.take(2)"
   ]
  },
  {
   "cell_type": "code",
   "execution_count": 39,
   "metadata": {},
   "outputs": [
    {
     "name": "stdout",
     "output_type": "stream",
     "text": [
      "cicid :  0\n",
      "i94yr :  0\n",
      "i94mon :  0\n",
      "i94cit :  0\n",
      "i94res :  0\n",
      "i94port :  0\n",
      "i94mode :  0\n",
      "i94addr :  152297\n",
      "i94bir :  801\n",
      "i94visa :  0\n",
      "count :  0\n",
      "dtadfile :  0\n",
      "entdepa :  0\n",
      "biryear :  801\n",
      "dtaddto :  0\n",
      "airline :  83374\n",
      "admnum :  0\n",
      "fltno :  19298\n",
      "visatype :  0\n",
      "arrival_date :  0\n",
      "departure_date :  142407\n"
     ]
    }
   ],
   "source": [
    "# count null value again\n",
    "counting_null_number_inColumns(df_imm2)"
   ]
  },
  {
   "cell_type": "code",
   "execution_count": 40,
   "metadata": {},
   "outputs": [],
   "source": [
    "add_to_file_date_udf = udf(lambda x: datetime.strptime(x, '%Y%m%d').strftime('%Y-%m-%d'))"
   ]
  },
  {
   "cell_type": "code",
   "execution_count": 41,
   "metadata": {},
   "outputs": [],
   "source": [
    "df_imm2 = df_imm2.select(\"*\").withColumn(\"add_to_file_date\", add_to_file_date_udf(df_imm.dtadfile))"
   ]
  },
  {
   "cell_type": "code",
   "execution_count": 42,
   "metadata": {},
   "outputs": [],
   "source": [
    "df_imm2 = df_imm2.drop(\"dtadfile\")"
   ]
  },
  {
   "cell_type": "code",
   "execution_count": 43,
   "metadata": {},
   "outputs": [],
   "source": [
    "df_imm2 = df_imm2.withColumnRenamed(\"dtaddto\", 'allow_to_stay_date')"
   ]
  },
  {
   "cell_type": "code",
   "execution_count": 44,
   "metadata": {},
   "outputs": [
    {
     "name": "stdout",
     "output_type": "stream",
     "text": [
      "root\n",
      " |-- cicid: double (nullable = true)\n",
      " |-- i94yr: double (nullable = true)\n",
      " |-- i94mon: double (nullable = true)\n",
      " |-- i94cit: double (nullable = true)\n",
      " |-- i94res: double (nullable = true)\n",
      " |-- i94port: string (nullable = true)\n",
      " |-- i94mode: double (nullable = true)\n",
      " |-- i94addr: string (nullable = true)\n",
      " |-- i94bir: double (nullable = true)\n",
      " |-- i94visa: double (nullable = true)\n",
      " |-- count: double (nullable = true)\n",
      " |-- entdepa: string (nullable = true)\n",
      " |-- biryear: double (nullable = true)\n",
      " |-- allow_to_stay_date: string (nullable = true)\n",
      " |-- airline: string (nullable = true)\n",
      " |-- admnum: double (nullable = true)\n",
      " |-- fltno: string (nullable = true)\n",
      " |-- visatype: string (nullable = true)\n",
      " |-- arrival_date: string (nullable = true)\n",
      " |-- departure_date: string (nullable = true)\n",
      " |-- add_to_file_date: string (nullable = true)\n",
      "\n"
     ]
    }
   ],
   "source": [
    "df_imm2.printSchema()"
   ]
  },
  {
   "cell_type": "code",
   "execution_count": 45,
   "metadata": {},
   "outputs": [
    {
     "data": {
      "text/plain": [
       "['cicid',\n",
       " 'i94yr',\n",
       " 'i94mon',\n",
       " 'i94cit',\n",
       " 'i94res',\n",
       " 'i94port',\n",
       " 'i94mode',\n",
       " 'i94addr',\n",
       " 'i94bir',\n",
       " 'i94visa',\n",
       " 'count',\n",
       " 'entdepa',\n",
       " 'biryear',\n",
       " 'allow_to_stay_date',\n",
       " 'airline',\n",
       " 'admnum',\n",
       " 'fltno',\n",
       " 'visatype',\n",
       " 'arrival_date',\n",
       " 'departure_date',\n",
       " 'add_to_file_date']"
      ]
     },
     "execution_count": 45,
     "metadata": {},
     "output_type": "execute_result"
    }
   ],
   "source": [
    "df_imm2.columns"
   ]
  },
  {
   "cell_type": "code",
   "execution_count": 46,
   "metadata": {},
   "outputs": [
    {
     "data": {
      "text/plain": [
       "21"
      ]
     },
     "execution_count": 46,
     "metadata": {},
     "output_type": "execute_result"
    }
   ],
   "source": [
    "len(df_imm2.columns)"
   ]
  },
  {
   "cell_type": "code",
   "execution_count": 47,
   "metadata": {},
   "outputs": [],
   "source": [
    "# change column names\n",
    "names =['cicid',\n",
    " 'entry_year',\n",
    " 'entry_month',\n",
    " 'citizenship_of_country',\n",
    " 'resident_of_country',\n",
    " 'i94port_city',\n",
    "  'entry_mode_id',\n",
    " 'destination_state',\n",
    "  \"age\",\n",
    " 'visa_category',\n",
    " 'count',\n",
    " 'departure_flag',\n",
    " 'birth_year',\n",
    " 'allow_to_stay_date',\n",
    " 'airline_code',\n",
    " 'admission_number',\n",
    " 'flight_number',\n",
    " 'visa_type',\n",
    " 'arrival_date',\n",
    " 'departure_date',\n",
    " 'add_to_file_date']"
   ]
  },
  {
   "cell_type": "code",
   "execution_count": 48,
   "metadata": {},
   "outputs": [
    {
     "data": {
      "text/plain": [
       "21"
      ]
     },
     "execution_count": 48,
     "metadata": {},
     "output_type": "execute_result"
    }
   ],
   "source": [
    "len(names)"
   ]
  },
  {
   "cell_type": "code",
   "execution_count": 49,
   "metadata": {},
   "outputs": [],
   "source": [
    "df_imm2 = df_imm2.toDF(*names)"
   ]
  },
  {
   "cell_type": "code",
   "execution_count": 50,
   "metadata": {},
   "outputs": [
    {
     "name": "stdout",
     "output_type": "stream",
     "text": [
      "root\n",
      " |-- cicid: double (nullable = true)\n",
      " |-- entry_year: double (nullable = true)\n",
      " |-- entry_month: double (nullable = true)\n",
      " |-- citizenship_of_country: double (nullable = true)\n",
      " |-- resident_of_country: double (nullable = true)\n",
      " |-- i94port_city: string (nullable = true)\n",
      " |-- entry_mode_id: double (nullable = true)\n",
      " |-- destination_state: string (nullable = true)\n",
      " |-- age: double (nullable = true)\n",
      " |-- visa_category: double (nullable = true)\n",
      " |-- count: double (nullable = true)\n",
      " |-- departure_flag: string (nullable = true)\n",
      " |-- birth_year: double (nullable = true)\n",
      " |-- allow_to_stay_date: string (nullable = true)\n",
      " |-- airline_code: string (nullable = true)\n",
      " |-- admission_number: double (nullable = true)\n",
      " |-- flight_number: string (nullable = true)\n",
      " |-- visa_type: string (nullable = true)\n",
      " |-- arrival_date: string (nullable = true)\n",
      " |-- departure_date: string (nullable = true)\n",
      " |-- add_to_file_date: string (nullable = true)\n",
      "\n"
     ]
    }
   ],
   "source": [
    "df_imm2.printSchema()"
   ]
  },
  {
   "cell_type": "code",
   "execution_count": 51,
   "metadata": {},
   "outputs": [],
   "source": [
    "int_lst = [\"admission_number\", \"cicid\", \"entry_year\", \"entry_month\", \"citizenship_of_country\", \n",
    "           \"resident_of_country\", \"visa_category\", \"entry_mode_id\", \"age\", \"birth_year\", \"count\"]\n",
    "\n",
    "df_imm2 = change_data_type(int_lst, df_imm2, \"int\") "
   ]
  },
  {
   "cell_type": "code",
   "execution_count": 52,
   "metadata": {},
   "outputs": [],
   "source": [
    "# remove last letter 2 from column name\n",
    "df_imm2 = remove_last2_from_colname(df_imm2)"
   ]
  },
  {
   "cell_type": "code",
   "execution_count": 53,
   "metadata": {},
   "outputs": [
    {
     "data": {
      "text/plain": [
       "[Row(i94port_city='LOS', destination_state='CA', departure_flag='G', allow_to_stay_date='10292016', airline_code='QF', flight_number='00011', visa_type='B1', arrival_date='2016-04-30', departure_date='2016-05-08', add_to_file_date='2016-04-30', admission_number=2147483647, cicid=5748517, entry_year=2016, entry_month=4, citizenship_of_country=245, resident_of_country=438, visa_category=1, entry_mode_id=1, age=40, birth_year=1976, count=1)]"
      ]
     },
     "execution_count": 53,
     "metadata": {},
     "output_type": "execute_result"
    }
   ],
   "source": [
    "df_imm2.take(1)"
   ]
  },
  {
   "cell_type": "code",
   "execution_count": 54,
   "metadata": {},
   "outputs": [],
   "source": [
    "df_ent = spark.read.csv(\"./data/i94entry_mode.txt\", sep=\"=\")"
   ]
  },
  {
   "cell_type": "code",
   "execution_count": 55,
   "metadata": {},
   "outputs": [
    {
     "data": {
      "text/plain": [
       "[Row(_c0='1 ', _c1=\" 'Air'\"),\n",
       " Row(_c0='2 ', _c1=\" 'Sea'\"),\n",
       " Row(_c0='3 ', _c1=\" 'Land'\"),\n",
       " Row(_c0='9 ', _c1=\" 'Not reported'\")]"
      ]
     },
     "execution_count": 55,
     "metadata": {},
     "output_type": "execute_result"
    }
   ],
   "source": [
    "df_ent.take(4)"
   ]
  },
  {
   "cell_type": "code",
   "execution_count": 56,
   "metadata": {},
   "outputs": [],
   "source": [
    "get_ent_id_udf = udf(lambda x: x[0])"
   ]
  },
  {
   "cell_type": "code",
   "execution_count": 57,
   "metadata": {},
   "outputs": [],
   "source": [
    "df_ent = df_ent.withColumn(\"entry_mode_id\", get_ent_id_udf(\"_c0\")).drop(\"_c0\")"
   ]
  },
  {
   "cell_type": "code",
   "execution_count": 58,
   "metadata": {},
   "outputs": [],
   "source": [
    "get_entry_mode_udf = udf(lambda x: x[2:-1])"
   ]
  },
  {
   "cell_type": "code",
   "execution_count": 59,
   "metadata": {},
   "outputs": [],
   "source": [
    "df_ent = df_ent.withColumn(\"entry_mode\", get_entry_mode_udf(\"_c1\")).drop(\"_c1\")"
   ]
  },
  {
   "cell_type": "code",
   "execution_count": 60,
   "metadata": {},
   "outputs": [],
   "source": [
    "df_ent = change_data_type([\"entry_mode_id\"], df_ent, \"int\")"
   ]
  },
  {
   "cell_type": "code",
   "execution_count": 61,
   "metadata": {},
   "outputs": [],
   "source": [
    "df_ent = remove_last2_from_colname(df_ent)"
   ]
  },
  {
   "cell_type": "code",
   "execution_count": 62,
   "metadata": {},
   "outputs": [
    {
     "name": "stdout",
     "output_type": "stream",
     "text": [
      "+------------+-------------+\n",
      "|  entry_mode|entry_mode_id|\n",
      "+------------+-------------+\n",
      "|         Air|            1|\n",
      "|         Sea|            2|\n",
      "|        Land|            3|\n",
      "|Not reported|            9|\n",
      "+------------+-------------+\n",
      "\n"
     ]
    }
   ],
   "source": [
    "df_ent.show()"
   ]
  },
  {
   "cell_type": "code",
   "execution_count": 63,
   "metadata": {},
   "outputs": [
    {
     "name": "stdout",
     "output_type": "stream",
     "text": [
      "root\n",
      " |-- entry_mode: string (nullable = true)\n",
      " |-- entry_mode_id: integer (nullable = true)\n",
      "\n"
     ]
    }
   ],
   "source": [
    "df_ent.printSchema()"
   ]
  },
  {
   "cell_type": "code",
   "execution_count": 64,
   "metadata": {},
   "outputs": [
    {
     "data": {
      "text/plain": [
       "[Row(i94port_city='LOS', destination_state='CA', departure_flag='G', allow_to_stay_date='10292016', airline_code='QF', flight_number='00011', visa_type='B1', arrival_date='2016-04-30', departure_date='2016-05-08', add_to_file_date='2016-04-30', admission_number=2147483647, cicid=5748517, entry_year=2016, entry_month=4, citizenship_of_country=245, resident_of_country=438, visa_category=1, entry_mode_id=1, age=40, birth_year=1976, count=1)]"
      ]
     },
     "execution_count": 64,
     "metadata": {},
     "output_type": "execute_result"
    }
   ],
   "source": [
    "df_imm2.take(1)"
   ]
  },
  {
   "cell_type": "code",
   "execution_count": 65,
   "metadata": {},
   "outputs": [],
   "source": [
    "df_imm3 = df_imm2.join(df_ent, on=['entry_mode_id'])"
   ]
  },
  {
   "cell_type": "code",
   "execution_count": 66,
   "metadata": {},
   "outputs": [],
   "source": [
    "visa_cat = spark.read.csv(\"./data/i94visa_category.csv\", header=True)"
   ]
  },
  {
   "cell_type": "code",
   "execution_count": 67,
   "metadata": {},
   "outputs": [],
   "source": [
    "visa_cat = change_data_type([\"VISA_category\"], visa_cat, \"int\")"
   ]
  },
  {
   "cell_type": "code",
   "execution_count": 68,
   "metadata": {},
   "outputs": [],
   "source": [
    "visa_cat = remove_last2_from_colname(visa_cat)"
   ]
  },
  {
   "cell_type": "code",
   "execution_count": 69,
   "metadata": {},
   "outputs": [
    {
     "name": "stdout",
     "output_type": "stream",
     "text": [
      "root\n",
      " |--  category_name: string (nullable = true)\n",
      " |-- VISA_category: integer (nullable = true)\n",
      "\n"
     ]
    }
   ],
   "source": [
    "visa_cat.printSchema()"
   ]
  },
  {
   "cell_type": "code",
   "execution_count": 70,
   "metadata": {},
   "outputs": [
    {
     "name": "stdout",
     "output_type": "stream",
     "text": [
      "+--------------+-------------+\n",
      "| category_name|VISA_category|\n",
      "+--------------+-------------+\n",
      "|      Business|            1|\n",
      "|      Pleasure|            2|\n",
      "|       Student|            3|\n",
      "+--------------+-------------+\n",
      "\n"
     ]
    }
   ],
   "source": [
    "visa_cat.show()"
   ]
  },
  {
   "cell_type": "code",
   "execution_count": 71,
   "metadata": {},
   "outputs": [],
   "source": [
    "visa_cat = visa_cat.withColumnRenamed(\"VISA_category\", \"visa_category\")"
   ]
  },
  {
   "cell_type": "code",
   "execution_count": 72,
   "metadata": {},
   "outputs": [
    {
     "data": {
      "text/plain": [
       "[Row( category_name=' Business', visa_category=1),\n",
       " Row( category_name=' Pleasure', visa_category=2),\n",
       " Row( category_name=' Student', visa_category=3)]"
      ]
     },
     "execution_count": 72,
     "metadata": {},
     "output_type": "execute_result"
    }
   ],
   "source": [
    "visa_cat.take(3)"
   ]
  },
  {
   "cell_type": "code",
   "execution_count": 73,
   "metadata": {},
   "outputs": [],
   "source": [
    "remove_space_udf = udf(lambda x: x[1:])"
   ]
  },
  {
   "cell_type": "code",
   "execution_count": 74,
   "metadata": {},
   "outputs": [],
   "source": [
    "visa_cat = visa_cat.withColumn(\" category_name\", remove_space_udf(\" category_name\"))"
   ]
  },
  {
   "cell_type": "code",
   "execution_count": 75,
   "metadata": {},
   "outputs": [],
   "source": [
    "visa_cat = visa_cat.withColumnRenamed(\" category_name\", \"category_name\")"
   ]
  },
  {
   "cell_type": "code",
   "execution_count": 76,
   "metadata": {},
   "outputs": [
    {
     "data": {
      "text/plain": [
       "3095831"
      ]
     },
     "execution_count": 76,
     "metadata": {},
     "output_type": "execute_result"
    }
   ],
   "source": [
    "df_imm3.count()"
   ]
  },
  {
   "cell_type": "code",
   "execution_count": 77,
   "metadata": {},
   "outputs": [],
   "source": [
    "visa_cat_gb = df_imm3.groupBy(\"visa_category\").count()"
   ]
  },
  {
   "cell_type": "code",
   "execution_count": 78,
   "metadata": {},
   "outputs": [
    {
     "data": {
      "text/html": [
       "<div>\n",
       "<style scoped>\n",
       "    .dataframe tbody tr th:only-of-type {\n",
       "        vertical-align: middle;\n",
       "    }\n",
       "\n",
       "    .dataframe tbody tr th {\n",
       "        vertical-align: top;\n",
       "    }\n",
       "\n",
       "    .dataframe thead th {\n",
       "        text-align: right;\n",
       "    }\n",
       "</style>\n",
       "<table border=\"1\" class=\"dataframe\">\n",
       "  <thead>\n",
       "    <tr style=\"text-align: right;\">\n",
       "      <th></th>\n",
       "      <th>visa_category</th>\n",
       "      <th>count</th>\n",
       "    </tr>\n",
       "  </thead>\n",
       "  <tbody>\n",
       "    <tr>\n",
       "      <th>0</th>\n",
       "      <td>1</td>\n",
       "      <td>522057</td>\n",
       "    </tr>\n",
       "    <tr>\n",
       "      <th>1</th>\n",
       "      <td>3</td>\n",
       "      <td>43348</td>\n",
       "    </tr>\n",
       "    <tr>\n",
       "      <th>2</th>\n",
       "      <td>2</td>\n",
       "      <td>2530426</td>\n",
       "    </tr>\n",
       "  </tbody>\n",
       "</table>\n",
       "</div>"
      ],
      "text/plain": [
       "   visa_category    count\n",
       "0              1   522057\n",
       "1              3    43348\n",
       "2              2  2530426"
      ]
     },
     "execution_count": 78,
     "metadata": {},
     "output_type": "execute_result"
    }
   ],
   "source": [
    "visa_cat_gb.toPandas() # most traveling are visa_category 2 (for pleasure)"
   ]
  },
  {
   "cell_type": "code",
   "execution_count": 79,
   "metadata": {},
   "outputs": [],
   "source": [
    "df_imm4 = df_imm3.dropna()"
   ]
  },
  {
   "cell_type": "code",
   "execution_count": 80,
   "metadata": {},
   "outputs": [
    {
     "data": {
      "text/plain": [
       "2769642"
      ]
     },
     "execution_count": 80,
     "metadata": {},
     "output_type": "execute_result"
    }
   ],
   "source": [
    "df_imm4.count()"
   ]
  },
  {
   "cell_type": "code",
   "execution_count": 81,
   "metadata": {},
   "outputs": [
    {
     "data": {
      "text/plain": [
       "0.8946360444094009"
      ]
     },
     "execution_count": 81,
     "metadata": {},
     "output_type": "execute_result"
    }
   ],
   "source": [
    "2769642/3095831 # preserve 89% data"
   ]
  },
  {
   "cell_type": "code",
   "execution_count": 82,
   "metadata": {},
   "outputs": [
    {
     "name": "stdout",
     "output_type": "stream",
     "text": [
      "entry_mode_id :  0\n",
      "i94port_city :  0\n",
      "destination_state :  0\n",
      "departure_flag :  0\n",
      "allow_to_stay_date :  0\n",
      "airline_code :  0\n",
      "flight_number :  0\n",
      "visa_type :  0\n",
      "arrival_date :  0\n",
      "departure_date :  0\n",
      "add_to_file_date :  0\n",
      "admission_number :  0\n",
      "cicid :  0\n",
      "entry_year :  0\n",
      "entry_month :  0\n",
      "citizenship_of_country :  0\n",
      "resident_of_country :  0\n",
      "visa_category :  0\n",
      "age :  0\n",
      "birth_year :  0\n",
      "count :  0\n",
      "entry_mode :  0\n"
     ]
    }
   ],
   "source": [
    "counting_null_number_inColumns(df_imm4) # no null value in the data"
   ]
  },
  {
   "cell_type": "code",
   "execution_count": 83,
   "metadata": {},
   "outputs": [
    {
     "data": {
      "text/plain": [
       "['entry_mode_id',\n",
       " 'i94port_city',\n",
       " 'destination_state',\n",
       " 'departure_flag',\n",
       " 'allow_to_stay_date',\n",
       " 'airline_code',\n",
       " 'flight_number',\n",
       " 'visa_type',\n",
       " 'arrival_date',\n",
       " 'departure_date',\n",
       " 'add_to_file_date',\n",
       " 'admission_number',\n",
       " 'cicid',\n",
       " 'entry_year',\n",
       " 'entry_month',\n",
       " 'citizenship_of_country',\n",
       " 'resident_of_country',\n",
       " 'visa_category',\n",
       " 'age',\n",
       " 'birth_year',\n",
       " 'count',\n",
       " 'entry_mode']"
      ]
     },
     "execution_count": 83,
     "metadata": {},
     "output_type": "execute_result"
    }
   ],
   "source": [
    "df_imm4.columns"
   ]
  },
  {
   "cell_type": "code",
   "execution_count": 85,
   "metadata": {},
   "outputs": [],
   "source": [
    "# Pre-select column names \n",
    "imm_colnames = ['admission_number',\n",
    " 'i94port_city',\n",
    " 'destination_state',\n",
    " 'airline_code',\n",
    " 'visa_type',\n",
    " 'visa_category',\n",
    " 'arrival_date',\n",
    " 'departure_date',\n",
    " 'allow_to_stay_date',\n",
    " 'entry_year',\n",
    " 'entry_month',\n",
    " 'citizenship_of_country',\n",
    " 'resident_of_country',\n",
    " 'entry_mode',\n",
    " 'age']"
   ]
  },
  {
   "cell_type": "code",
   "execution_count": 86,
   "metadata": {},
   "outputs": [],
   "source": [
    "# select columns\n",
    "df_imm4 = df_imm4.select(imm_colnames)"
   ]
  },
  {
   "cell_type": "code",
   "execution_count": 87,
   "metadata": {},
   "outputs": [
    {
     "data": {
      "text/plain": [
       "[Row(admission_number=2147483647, i94port_city='LOS', destination_state='CA', airline_code='QF', visa_type='B1', visa_category=1, arrival_date='2016-04-30', departure_date='2016-05-08', allow_to_stay_date='10292016', entry_year=2016, entry_month=4, citizenship_of_country=245, resident_of_country=438, entry_mode='Air', age=40),\n",
       " Row(admission_number=2147483647, i94port_city='LOS', destination_state='NV', airline_code='VA', visa_type='B1', visa_category=1, arrival_date='2016-04-30', departure_date='2016-05-17', allow_to_stay_date='10292016', entry_year=2016, entry_month=4, citizenship_of_country=245, resident_of_country=438, entry_mode='Air', age=32)]"
      ]
     },
     "execution_count": 87,
     "metadata": {},
     "output_type": "execute_result"
    }
   ],
   "source": [
    "df_imm4.take(2)"
   ]
  },
  {
   "cell_type": "code",
   "execution_count": 88,
   "metadata": {},
   "outputs": [],
   "source": [
    "# rename columns\n",
    "imm_colnames = ['admission_number',\n",
    " 'i94port_city',\n",
    " 'destination_state_code',\n",
    " 'airline_code',\n",
    " 'visa_type',\n",
    " 'visa_category',\n",
    " 'arrival_date',\n",
    " 'departure_date',\n",
    " 'allow_to_stay_date',\n",
    " 'entry_year',\n",
    " 'entry_month',\n",
    " 'citizenship_of_country',\n",
    " 'resident_of_country',\n",
    " 'entry_mode',\n",
    " 'age']"
   ]
  },
  {
   "cell_type": "code",
   "execution_count": 89,
   "metadata": {},
   "outputs": [],
   "source": [
    "df_imm4 = df_imm4.toDF(*imm_colnames)"
   ]
  },
  {
   "cell_type": "code",
   "execution_count": 90,
   "metadata": {},
   "outputs": [
    {
     "data": {
      "text/plain": [
       "[Row(admission_number=2147483647, i94port_city='LOS', destination_state_code='CA', airline_code='QF', visa_type='B1', visa_category=1, arrival_date='2016-04-30', departure_date='2016-05-08', allow_to_stay_date='10292016', entry_year=2016, entry_month=4, citizenship_of_country=245, resident_of_country=438, entry_mode='Air', age=40),\n",
       " Row(admission_number=2147483647, i94port_city='LOS', destination_state_code='NV', airline_code='VA', visa_type='B1', visa_category=1, arrival_date='2016-04-30', departure_date='2016-05-17', allow_to_stay_date='10292016', entry_year=2016, entry_month=4, citizenship_of_country=245, resident_of_country=438, entry_mode='Air', age=32)]"
      ]
     },
     "execution_count": 90,
     "metadata": {},
     "output_type": "execute_result"
    }
   ],
   "source": [
    "df_imm4.take(2)"
   ]
  },
  {
   "cell_type": "code",
   "execution_count": 91,
   "metadata": {},
   "outputs": [
    {
     "name": "stdout",
     "output_type": "stream",
     "text": [
      "admission_number :  0\n",
      "i94port_city :  0\n",
      "destination_state_code :  0\n",
      "airline_code :  0\n",
      "visa_type :  0\n",
      "visa_category :  0\n",
      "arrival_date :  0\n",
      "departure_date :  0\n",
      "allow_to_stay_date :  0\n",
      "entry_year :  0\n",
      "entry_month :  0\n",
      "citizenship_of_country :  0\n",
      "resident_of_country :  0\n",
      "entry_mode :  0\n",
      "age :  0\n"
     ]
    }
   ],
   "source": [
    "counting_null_number_inColumns(df_imm4)"
   ]
  },
  {
   "cell_type": "code",
   "execution_count": 92,
   "metadata": {},
   "outputs": [
    {
     "data": {
      "text/plain": [
       "2769642"
      ]
     },
     "execution_count": 92,
     "metadata": {},
     "output_type": "execute_result"
    }
   ],
   "source": [
    "df_imm4.count()"
   ]
  },
  {
   "cell_type": "code",
   "execution_count": 93,
   "metadata": {},
   "outputs": [],
   "source": [
    "df_imm4.write.parquet(\"./out/immigration_table_2016_09.parquet\", mode =\"overwrite\", partitionBy=['entry_month', \"i94port_city\", \"destination_state_code\"])"
   ]
  },
  {
   "cell_type": "code",
   "execution_count": 94,
   "metadata": {},
   "outputs": [],
   "source": [
    "df_airport_i94port_join = spark.read.parquet(\"./out/airport_i94port_join_table_cleaned.parquet\")"
   ]
  },
  {
   "cell_type": "code",
   "execution_count": 95,
   "metadata": {
    "scrolled": true
   },
   "outputs": [
    {
     "data": {
      "text/html": [
       "<div>\n",
       "<style scoped>\n",
       "    .dataframe tbody tr th:only-of-type {\n",
       "        vertical-align: middle;\n",
       "    }\n",
       "\n",
       "    .dataframe tbody tr th {\n",
       "        vertical-align: top;\n",
       "    }\n",
       "\n",
       "    .dataframe thead th {\n",
       "        text-align: right;\n",
       "    }\n",
       "</style>\n",
       "<table border=\"1\" class=\"dataframe\">\n",
       "  <thead>\n",
       "    <tr style=\"text-align: right;\">\n",
       "      <th></th>\n",
       "      <th>airport_id</th>\n",
       "      <th>airport_type</th>\n",
       "      <th>airport_name</th>\n",
       "      <th>state_code</th>\n",
       "      <th>elevation_ft</th>\n",
       "      <th>airport_longitude</th>\n",
       "      <th>airport_latitude</th>\n",
       "      <th>i94port_code</th>\n",
       "    </tr>\n",
       "  </thead>\n",
       "  <tbody>\n",
       "    <tr>\n",
       "      <th>0</th>\n",
       "      <td>KBWI</td>\n",
       "      <td>large_airport</td>\n",
       "      <td>Baltimore/Washington International Thurgood Ma...</td>\n",
       "      <td>MD</td>\n",
       "      <td>146.0</td>\n",
       "      <td>-76.668297</td>\n",
       "      <td>39.175400</td>\n",
       "      <td>BAL</td>\n",
       "    </tr>\n",
       "    <tr>\n",
       "      <th>1</th>\n",
       "      <td>KBOS</td>\n",
       "      <td>large_airport</td>\n",
       "      <td>General Edward Lawrence Logan International Ai...</td>\n",
       "      <td>MA</td>\n",
       "      <td>20.0</td>\n",
       "      <td>-71.005203</td>\n",
       "      <td>42.364300</td>\n",
       "      <td>BOS</td>\n",
       "    </tr>\n",
       "    <tr>\n",
       "      <th>2</th>\n",
       "      <td>KMSY</td>\n",
       "      <td>large_airport</td>\n",
       "      <td>Louis Armstrong New Orleans International Airport</td>\n",
       "      <td>LA</td>\n",
       "      <td>4.0</td>\n",
       "      <td>-90.258003</td>\n",
       "      <td>29.993401</td>\n",
       "      <td>NOL</td>\n",
       "    </tr>\n",
       "    <tr>\n",
       "      <th>3</th>\n",
       "      <td>KJAN</td>\n",
       "      <td>large_airport</td>\n",
       "      <td>Jackson-Medgar Wiley Evers International Airport</td>\n",
       "      <td>MS</td>\n",
       "      <td>346.0</td>\n",
       "      <td>-90.075897</td>\n",
       "      <td>32.311199</td>\n",
       "      <td>JAN</td>\n",
       "    </tr>\n",
       "    <tr>\n",
       "      <th>4</th>\n",
       "      <td>KATL</td>\n",
       "      <td>large_airport</td>\n",
       "      <td>Hartsfield Jackson Atlanta International Airport</td>\n",
       "      <td>GA</td>\n",
       "      <td>1026.0</td>\n",
       "      <td>-84.428101</td>\n",
       "      <td>33.636700</td>\n",
       "      <td>ATL</td>\n",
       "    </tr>\n",
       "  </tbody>\n",
       "</table>\n",
       "</div>"
      ],
      "text/plain": [
       "  airport_id   airport_type  \\\n",
       "0       KBWI  large_airport   \n",
       "1       KBOS  large_airport   \n",
       "2       KMSY  large_airport   \n",
       "3       KJAN  large_airport   \n",
       "4       KATL  large_airport   \n",
       "\n",
       "                                        airport_name state_code  elevation_ft  \\\n",
       "0  Baltimore/Washington International Thurgood Ma...         MD         146.0   \n",
       "1  General Edward Lawrence Logan International Ai...         MA          20.0   \n",
       "2  Louis Armstrong New Orleans International Airport         LA           4.0   \n",
       "3   Jackson-Medgar Wiley Evers International Airport         MS         346.0   \n",
       "4   Hartsfield Jackson Atlanta International Airport         GA        1026.0   \n",
       "\n",
       "   airport_longitude  airport_latitude i94port_code  \n",
       "0         -76.668297         39.175400          BAL  \n",
       "1         -71.005203         42.364300          BOS  \n",
       "2         -90.258003         29.993401          NOL  \n",
       "3         -90.075897         32.311199          JAN  \n",
       "4         -84.428101         33.636700          ATL  "
      ]
     },
     "execution_count": 95,
     "metadata": {},
     "output_type": "execute_result"
    }
   ],
   "source": [
    "df_airport_i94port_join.toPandas().head()"
   ]
  },
  {
   "cell_type": "code",
   "execution_count": 96,
   "metadata": {},
   "outputs": [
    {
     "data": {
      "text/plain": [
       "77"
      ]
     },
     "execution_count": 96,
     "metadata": {},
     "output_type": "execute_result"
    }
   ],
   "source": [
    "df_airport_i94port_join.count()"
   ]
  },
  {
   "cell_type": "code",
   "execution_count": 97,
   "metadata": {},
   "outputs": [
    {
     "data": {
      "text/plain": [
       "[Row(airport_id='KBWI', airport_type='large_airport', airport_name='Baltimore/Washington International Thurgood Marshall Airport', state_code='MD', elevation_ft=146.0, airport_longitude=-76.66829681396484, airport_latitude=39.17539978027344, i94port_code='BAL')]"
      ]
     },
     "execution_count": 97,
     "metadata": {},
     "output_type": "execute_result"
    }
   ],
   "source": [
    "df_airport_i94port_join.take(1)"
   ]
  },
  {
   "cell_type": "code",
   "execution_count": 99,
   "metadata": {},
   "outputs": [
    {
     "data": {
      "text/plain": [
       "[Row(admission_number=2147483647, i94port_city='LOS', destination_state_code='CA', airline_code='QF', visa_type='B1', visa_category=1, arrival_date='2016-04-30', departure_date='2016-05-08', allow_to_stay_date='10292016', entry_year=2016, entry_month=4, citizenship_of_country=245, resident_of_country=438, entry_mode='Air', age=40)]"
      ]
     },
     "execution_count": 99,
     "metadata": {},
     "output_type": "execute_result"
    }
   ],
   "source": [
    "df_imm4.take(1)"
   ]
  },
  {
   "cell_type": "code",
   "execution_count": 100,
   "metadata": {},
   "outputs": [],
   "source": [
    "df_imm_airport = df_imm4.join(df_airport_i94port_join, df_imm4.i94port_city==df_airport_i94port_join.i94port_code, \"inner\")"
   ]
  },
  {
   "cell_type": "code",
   "execution_count": 101,
   "metadata": {},
   "outputs": [
    {
     "data": {
      "text/plain": [
       "2373797"
      ]
     },
     "execution_count": 101,
     "metadata": {},
     "output_type": "execute_result"
    }
   ],
   "source": [
    "df_imm_airport.count()"
   ]
  },
  {
   "cell_type": "code",
   "execution_count": 102,
   "metadata": {},
   "outputs": [
    {
     "data": {
      "text/plain": [
       "[Row(admission_number=2147483647, i94port_city='LOS', destination_state_code='CA', airline_code='QF', visa_type='B1', visa_category=1, arrival_date='2016-04-30', departure_date='2016-05-08', allow_to_stay_date='10292016', entry_year=2016, entry_month=4, citizenship_of_country=245, resident_of_country=438, entry_mode='Air', age=40, airport_id='KLAX', airport_type='large_airport', airport_name='Los Angeles International Airport', state_code='CA', elevation_ft=125.0, airport_longitude=-118.40799713134766, airport_latitude=33.942501068115234, i94port_code='LOS'),\n",
       " Row(admission_number=2147483647, i94port_city='LOS', destination_state_code='NV', airline_code='VA', visa_type='B1', visa_category=1, arrival_date='2016-04-30', departure_date='2016-05-17', allow_to_stay_date='10292016', entry_year=2016, entry_month=4, citizenship_of_country=245, resident_of_country=438, entry_mode='Air', age=32, airport_id='KLAX', airport_type='large_airport', airport_name='Los Angeles International Airport', state_code='CA', elevation_ft=125.0, airport_longitude=-118.40799713134766, airport_latitude=33.942501068115234, i94port_code='LOS')]"
      ]
     },
     "execution_count": 102,
     "metadata": {},
     "output_type": "execute_result"
    }
   ],
   "source": [
    "df_imm_airport.take(2)"
   ]
  },
  {
   "cell_type": "code",
   "execution_count": 103,
   "metadata": {},
   "outputs": [
    {
     "data": {
      "text/plain": [
       "['admission_number',\n",
       " 'i94port_city',\n",
       " 'destination_state_code',\n",
       " 'airline_code',\n",
       " 'visa_type',\n",
       " 'visa_category',\n",
       " 'arrival_date',\n",
       " 'departure_date',\n",
       " 'allow_to_stay_date',\n",
       " 'entry_year',\n",
       " 'entry_month',\n",
       " 'citizenship_of_country',\n",
       " 'resident_of_country',\n",
       " 'entry_mode',\n",
       " 'age',\n",
       " 'airport_id',\n",
       " 'airport_type',\n",
       " 'airport_name',\n",
       " 'state_code',\n",
       " 'elevation_ft',\n",
       " 'airport_longitude',\n",
       " 'airport_latitude',\n",
       " 'i94port_code']"
      ]
     },
     "execution_count": 103,
     "metadata": {},
     "output_type": "execute_result"
    }
   ],
   "source": [
    "df_imm_airport.columns"
   ]
  },
  {
   "cell_type": "code",
   "execution_count": 104,
   "metadata": {},
   "outputs": [
    {
     "name": "stdout",
     "output_type": "stream",
     "text": [
      "root\n",
      " |-- admission_number: integer (nullable = true)\n",
      " |-- i94port_city: string (nullable = true)\n",
      " |-- destination_state_code: string (nullable = true)\n",
      " |-- airline_code: string (nullable = true)\n",
      " |-- visa_type: string (nullable = true)\n",
      " |-- visa_category: integer (nullable = true)\n",
      " |-- arrival_date: string (nullable = true)\n",
      " |-- departure_date: string (nullable = true)\n",
      " |-- allow_to_stay_date: string (nullable = true)\n",
      " |-- entry_year: integer (nullable = true)\n",
      " |-- entry_month: integer (nullable = true)\n",
      " |-- citizenship_of_country: integer (nullable = true)\n",
      " |-- resident_of_country: integer (nullable = true)\n",
      " |-- entry_mode: string (nullable = true)\n",
      " |-- age: integer (nullable = true)\n",
      " |-- airport_id: string (nullable = true)\n",
      " |-- airport_type: string (nullable = true)\n",
      " |-- airport_name: string (nullable = true)\n",
      " |-- state_code: string (nullable = true)\n",
      " |-- elevation_ft: float (nullable = true)\n",
      " |-- airport_longitude: float (nullable = true)\n",
      " |-- airport_latitude: float (nullable = true)\n",
      " |-- i94port_code: string (nullable = true)\n",
      "\n"
     ]
    }
   ],
   "source": [
    "df_imm_airport.printSchema()"
   ]
  },
  {
   "cell_type": "code",
   "execution_count": 105,
   "metadata": {},
   "outputs": [],
   "source": [
    "df_i94port_gb = df_imm_airport.select(\"i94port_city\").groupby('i94port_city').count() # groupby cities"
   ]
  },
  {
   "cell_type": "code",
   "execution_count": 107,
   "metadata": {},
   "outputs": [],
   "source": [
    "top25 = df_i94port_gb.sort(\"count\", ascending=False).limit(25)"
   ]
  },
  {
   "cell_type": "code",
   "execution_count": 108,
   "metadata": {},
   "outputs": [
    {
     "name": "stdout",
     "output_type": "stream",
     "text": [
      "root\n",
      " |-- i94port_city: string (nullable = true)\n",
      " |-- count: long (nullable = false)\n",
      "\n"
     ]
    }
   ],
   "source": [
    "top25.printSchema()"
   ]
  },
  {
   "cell_type": "code",
   "execution_count": 109,
   "metadata": {},
   "outputs": [
    {
     "name": "stdout",
     "output_type": "stream",
     "text": [
      "+------------+------+\n",
      "|i94port_city| count|\n",
      "+------------+------+\n",
      "|         NYC|456898|\n",
      "|         MIA|317537|\n",
      "|         LOS|281537|\n",
      "|         SFR|142534|\n",
      "|         ORL|139045|\n",
      "|         HHW|131297|\n",
      "|         NEW|128796|\n",
      "|         CHI|119092|\n",
      "|         HOU| 91120|\n",
      "|         FTL| 86564|\n",
      "|         ATL| 85744|\n",
      "|         LVG| 83476|\n",
      "|         BOS| 52642|\n",
      "|         SEA| 43650|\n",
      "|         PHO| 34588|\n",
      "|         DET| 32194|\n",
      "|         TAM| 23503|\n",
      "|         PHI| 23216|\n",
      "|         DEN| 16561|\n",
      "|         FMY| 15288|\n",
      "|         CLT| 14829|\n",
      "|         SDP|  8381|\n",
      "|         WPB|  6837|\n",
      "|         SNA|  6046|\n",
      "|         SLC|  4705|\n",
      "+------------+------+\n",
      "\n"
     ]
    }
   ],
   "source": [
    "top25.show(25)"
   ]
  },
  {
   "cell_type": "code",
   "execution_count": 110,
   "metadata": {},
   "outputs": [
    {
     "data": {
      "text/plain": [
       "2373797"
      ]
     },
     "execution_count": 110,
     "metadata": {},
     "output_type": "execute_result"
    }
   ],
   "source": [
    "df_imm_airport.count()"
   ]
  },
  {
   "cell_type": "code",
   "execution_count": 111,
   "metadata": {},
   "outputs": [
    {
     "data": {
      "text/plain": [
       "Row(sum(count)=2346080)"
      ]
     },
     "execution_count": 111,
     "metadata": {},
     "output_type": "execute_result"
    }
   ],
   "source": [
    "sum_number = top25.agg({\"count\":\"sum\"}).collect()[0]\n",
    "sum_number"
   ]
  },
  {
   "cell_type": "code",
   "execution_count": 112,
   "metadata": {},
   "outputs": [
    {
     "data": {
      "text/plain": [
       "0.9883237698927078"
      ]
     },
     "execution_count": 112,
     "metadata": {},
     "output_type": "execute_result"
    }
   ],
   "source": [
    "sum_number[\"sum(count)\"]/df_imm_airport.count() # Entries from top 25 cities contributed >98% traveling"
   ]
  },
  {
   "cell_type": "code",
   "execution_count": 113,
   "metadata": {},
   "outputs": [],
   "source": [
    "dest_gb = df_imm_airport.groupby('destination_state_code').count() # groupby destination states"
   ]
  },
  {
   "cell_type": "code",
   "execution_count": 114,
   "metadata": {},
   "outputs": [],
   "source": [
    "top25_dest = dest_gb.sort(\"count\", ascending=False).limit(25)"
   ]
  },
  {
   "cell_type": "code",
   "execution_count": 115,
   "metadata": {},
   "outputs": [
    {
     "name": "stdout",
     "output_type": "stream",
     "text": [
      "+----------------------+------+\n",
      "|destination_state_code| count|\n",
      "+----------------------+------+\n",
      "|                    FL|543817|\n",
      "|                    NY|491032|\n",
      "|                    CA|411991|\n",
      "|                    HI|153975|\n",
      "|                    NV|100852|\n",
      "|                    TX| 90365|\n",
      "|                    IL| 69301|\n",
      "|                    NJ| 64051|\n",
      "|                    MA| 56463|\n",
      "|                    GA| 38403|\n",
      "|                    WA| 35339|\n",
      "|                    MI| 25348|\n",
      "|                    NE| 23438|\n",
      "|                    PA| 23417|\n",
      "|                    LA| 18474|\n",
      "|                    NC| 17219|\n",
      "|                    AZ| 16411|\n",
      "|                    CO| 12948|\n",
      "|                    OH| 12663|\n",
      "|                    CT| 11639|\n",
      "+----------------------+------+\n",
      "only showing top 20 rows\n",
      "\n"
     ]
    }
   ],
   "source": [
    "top25_dest.show()"
   ]
  },
  {
   "cell_type": "code",
   "execution_count": 116,
   "metadata": {},
   "outputs": [
    {
     "data": {
      "text/plain": [
       "Row(sum(count)=2269939)"
      ]
     },
     "execution_count": 116,
     "metadata": {},
     "output_type": "execute_result"
    }
   ],
   "source": [
    "sum_number2 = top25_dest.agg({\"count\":\"sum\"}).collect()[0]\n",
    "sum_number2"
   ]
  },
  {
   "cell_type": "code",
   "execution_count": 117,
   "metadata": {},
   "outputs": [
    {
     "data": {
      "text/plain": [
       "0.9562481543282766"
      ]
     },
     "execution_count": 117,
     "metadata": {},
     "output_type": "execute_result"
    }
   ],
   "source": [
    "sum_number2[\"sum(count)\"]/df_imm_airport.count()  # > 95% traveling are from top25 destination states"
   ]
  },
  {
   "cell_type": "code",
   "execution_count": null,
   "metadata": {},
   "outputs": [],
   "source": []
  }
 ],
 "metadata": {
  "kernelspec": {
   "display_name": "Python 3",
   "language": "python",
   "name": "python3"
  },
  "language_info": {
   "codemirror_mode": {
    "name": "ipython",
    "version": 3
   },
   "file_extension": ".py",
   "mimetype": "text/x-python",
   "name": "python",
   "nbconvert_exporter": "python",
   "pygments_lexer": "ipython3",
   "version": "3.7.3"
  }
 },
 "nbformat": 4,
 "nbformat_minor": 2
}
